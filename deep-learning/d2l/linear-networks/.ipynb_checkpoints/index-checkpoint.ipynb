{
 "cells": [
  {
   "cell_type": "markdown",
   "id": "78ac152d-58b7-43fd-9fbe-784f08d7ee9a",
   "metadata": {},
   "source": [
    "# linear-networks\n",
    "\n",
    "- [linear-regression](linear-regression.ipynb)\n",
    "- [linear-regression-scratch](linear-regression-scratch.ipynb)\n",
    "- [linear-regression-concise](linear-regression-concise.ipynb)"
   ]
  }
 ],
 "metadata": {
  "kernelspec": {
   "display_name": "Python 3 (ipykernel)",
   "language": "python",
   "name": "python3"
  },
  "language_info": {
   "codemirror_mode": {
    "name": "ipython",
    "version": 3
   },
   "file_extension": ".py",
   "mimetype": "text/x-python",
   "name": "python",
   "nbconvert_exporter": "python",
   "pygments_lexer": "ipython3",
   "version": "3.11.6"
  }
 },
 "nbformat": 4,
 "nbformat_minor": 5
}
